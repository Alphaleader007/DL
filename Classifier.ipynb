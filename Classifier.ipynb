{
  "nbformat": 4,
  "nbformat_minor": 0,
  "metadata": {
    "colab": {
      "name": "Classifier.ipynb",
      "provenance": [],
      "collapsed_sections": [],
      "authorship_tag": "ABX9TyPIFhO6fNhl0Tp/UeaW1jVW",
      "include_colab_link": true
    },
    "kernelspec": {
      "name": "python3",
      "display_name": "Python 3"
    },
    "language_info": {
      "name": "python"
    }
  },
  "cells": [
    {
      "cell_type": "markdown",
      "metadata": {
        "id": "view-in-github",
        "colab_type": "text"
      },
      "source": [
        "<a href=\"https://colab.research.google.com/github/Alphaleader007/DL/blob/main/Classifier.ipynb\" target=\"_parent\"><img src=\"https://colab.research.google.com/assets/colab-badge.svg\" alt=\"Open In Colab\"/></a>"
      ]
    },
    {
      "cell_type": "code",
      "metadata": {
        "id": "UGfsHoN8BaOu"
      },
      "source": [
        "import torch\n",
        "import torch.nn as nn\n",
        "from sklearn.datasets import load_breast_cancer\n",
        "import numpy as np\n",
        "import matplotlib.pyplot as plt"
      ],
      "execution_count": null,
      "outputs": []
    },
    {
      "cell_type": "code",
      "metadata": {
        "id": "li2IKFULHmBE"
      },
      "source": [
        "from sklearn.datasets import load_breast_cancer\n",
        "data=load_breast_cancer()\n"
      ],
      "execution_count": null,
      "outputs": []
    },
    {
      "cell_type": "code",
      "metadata": {
        "colab": {
          "base_uri": "https://localhost:8080/"
        },
        "id": "2veFvcIY439f",
        "outputId": "070c1db4-e4f0-4ca4-84ae-d11560233980"
      },
      "source": [
        "type(data)"
      ],
      "execution_count": null,
      "outputs": [
        {
          "output_type": "execute_result",
          "data": {
            "text/plain": [
              "sklearn.utils.Bunch"
            ]
          },
          "metadata": {
            "tags": []
          },
          "execution_count": 30
        }
      ]
    },
    {
      "cell_type": "code",
      "metadata": {
        "colab": {
          "base_uri": "https://localhost:8080/"
        },
        "id": "3R_Xet6X5dY0",
        "outputId": "85213761-58b8-4445-fb30-c5ca34f46831"
      },
      "source": [
        "data.keys()"
      ],
      "execution_count": null,
      "outputs": [
        {
          "output_type": "execute_result",
          "data": {
            "text/plain": [
              "dict_keys(['data', 'target', 'target_names', 'DESCR', 'feature_names', 'filename'])"
            ]
          },
          "metadata": {
            "tags": []
          },
          "execution_count": 31
        }
      ]
    },
    {
      "cell_type": "code",
      "metadata": {
        "colab": {
          "base_uri": "https://localhost:8080/"
        },
        "id": "9w1jDYEB5h50",
        "outputId": "ec6ec5b1-1097-4090-ea33-48167379b4cc"
      },
      "source": [
        "data.data.shape"
      ],
      "execution_count": null,
      "outputs": [
        {
          "output_type": "execute_result",
          "data": {
            "text/plain": [
              "(569, 30)"
            ]
          },
          "metadata": {
            "tags": []
          },
          "execution_count": 32
        }
      ]
    },
    {
      "cell_type": "code",
      "metadata": {
        "colab": {
          "base_uri": "https://localhost:8080/"
        },
        "id": "l8mRWIJ65tcF",
        "outputId": "a0b0d1de-5371-4ddb-f001-2ca5935f7ee3"
      },
      "source": [
        "data.target.shape"
      ],
      "execution_count": null,
      "outputs": [
        {
          "output_type": "execute_result",
          "data": {
            "text/plain": [
              "(569,)"
            ]
          },
          "metadata": {
            "tags": []
          },
          "execution_count": 17
        }
      ]
    },
    {
      "cell_type": "code",
      "metadata": {
        "colab": {
          "base_uri": "https://localhost:8080/"
        },
        "id": "6er7Q6Jt56wt",
        "outputId": "88415f6a-4a6d-4257-cdc7-43130335cb5c"
      },
      "source": [
        "data.target"
      ],
      "execution_count": null,
      "outputs": [
        {
          "output_type": "execute_result",
          "data": {
            "text/plain": [
              "array([0, 0, 0, 0, 0, 0, 0, 0, 0, 0, 0, 0, 0, 0, 0, 0, 0, 0, 0, 1, 1, 1,\n",
              "       0, 0, 0, 0, 0, 0, 0, 0, 0, 0, 0, 0, 0, 0, 0, 1, 0, 0, 0, 0, 0, 0,\n",
              "       0, 0, 1, 0, 1, 1, 1, 1, 1, 0, 0, 1, 0, 0, 1, 1, 1, 1, 0, 1, 0, 0,\n",
              "       1, 1, 1, 1, 0, 1, 0, 0, 1, 0, 1, 0, 0, 1, 1, 1, 0, 0, 1, 0, 0, 0,\n",
              "       1, 1, 1, 0, 1, 1, 0, 0, 1, 1, 1, 0, 0, 1, 1, 1, 1, 0, 1, 1, 0, 1,\n",
              "       1, 1, 1, 1, 1, 1, 1, 0, 0, 0, 1, 0, 0, 1, 1, 1, 0, 0, 1, 0, 1, 0,\n",
              "       0, 1, 0, 0, 1, 1, 0, 1, 1, 0, 1, 1, 1, 1, 0, 1, 1, 1, 1, 1, 1, 1,\n",
              "       1, 1, 0, 1, 1, 1, 1, 0, 0, 1, 0, 1, 1, 0, 0, 1, 1, 0, 0, 1, 1, 1,\n",
              "       1, 0, 1, 1, 0, 0, 0, 1, 0, 1, 0, 1, 1, 1, 0, 1, 1, 0, 0, 1, 0, 0,\n",
              "       0, 0, 1, 0, 0, 0, 1, 0, 1, 0, 1, 1, 0, 1, 0, 0, 0, 0, 1, 1, 0, 0,\n",
              "       1, 1, 1, 0, 1, 1, 1, 1, 1, 0, 0, 1, 1, 0, 1, 1, 0, 0, 1, 0, 1, 1,\n",
              "       1, 1, 0, 1, 1, 1, 1, 1, 0, 1, 0, 0, 0, 0, 0, 0, 0, 0, 0, 0, 0, 0,\n",
              "       0, 0, 1, 1, 1, 1, 1, 1, 0, 1, 0, 1, 1, 0, 1, 1, 0, 1, 0, 0, 1, 1,\n",
              "       1, 1, 1, 1, 1, 1, 1, 1, 1, 1, 1, 0, 1, 1, 0, 1, 0, 1, 1, 1, 1, 1,\n",
              "       1, 1, 1, 1, 1, 1, 1, 1, 1, 0, 1, 1, 1, 0, 1, 0, 1, 1, 1, 1, 0, 0,\n",
              "       0, 1, 1, 1, 1, 0, 1, 0, 1, 0, 1, 1, 1, 0, 1, 1, 1, 1, 1, 1, 1, 0,\n",
              "       0, 0, 1, 1, 1, 1, 1, 1, 1, 1, 1, 1, 1, 0, 0, 1, 0, 0, 0, 1, 0, 0,\n",
              "       1, 1, 1, 1, 1, 0, 1, 1, 1, 1, 1, 0, 1, 1, 1, 0, 1, 1, 0, 0, 1, 1,\n",
              "       1, 1, 1, 1, 0, 1, 1, 1, 1, 1, 1, 1, 0, 1, 1, 1, 1, 1, 0, 1, 1, 0,\n",
              "       1, 1, 1, 1, 1, 1, 1, 1, 1, 1, 1, 1, 0, 1, 0, 0, 1, 0, 1, 1, 1, 1,\n",
              "       1, 0, 1, 1, 0, 1, 0, 1, 1, 0, 1, 0, 1, 1, 1, 1, 1, 1, 1, 1, 0, 0,\n",
              "       1, 1, 1, 1, 1, 1, 0, 1, 1, 1, 1, 1, 1, 1, 1, 1, 1, 0, 1, 1, 1, 1,\n",
              "       1, 1, 1, 0, 1, 0, 1, 1, 0, 1, 1, 1, 1, 1, 0, 0, 1, 0, 1, 0, 1, 1,\n",
              "       1, 1, 1, 0, 1, 1, 0, 1, 0, 1, 0, 0, 1, 1, 1, 0, 1, 1, 1, 1, 1, 1,\n",
              "       1, 1, 1, 1, 1, 0, 1, 0, 0, 1, 1, 1, 1, 1, 1, 1, 1, 1, 1, 1, 1, 1,\n",
              "       1, 1, 1, 1, 1, 1, 1, 1, 1, 1, 1, 1, 0, 0, 0, 0, 0, 0, 1])"
            ]
          },
          "metadata": {
            "tags": []
          },
          "execution_count": 18
        }
      ]
    },
    {
      "cell_type": "code",
      "metadata": {
        "colab": {
          "base_uri": "https://localhost:8080/"
        },
        "id": "8WfJ5HBi590-",
        "outputId": "7f53ae51-e97e-4021-ebcb-d7d0521b7d8f"
      },
      "source": [
        "data.target_names"
      ],
      "execution_count": null,
      "outputs": [
        {
          "output_type": "execute_result",
          "data": {
            "text/plain": [
              "array(['malignant', 'benign'], dtype='<U9')"
            ]
          },
          "metadata": {
            "tags": []
          },
          "execution_count": 19
        }
      ]
    },
    {
      "cell_type": "code",
      "metadata": {
        "id": "e-wTZg8a6TFM"
      },
      "source": [
        "from sklearn.model_selection import train_test_split\n",
        "X_train,X_test,y_train,y_test=train_test_split(data.data,data.target,test_size=0.33)"
      ],
      "execution_count": null,
      "outputs": []
    },
    {
      "cell_type": "code",
      "metadata": {
        "id": "KXTpXEzK7-eE"
      },
      "source": [
        "N,D=X_train.shape\n"
      ],
      "execution_count": null,
      "outputs": []
    },
    {
      "cell_type": "code",
      "metadata": {
        "id": "7ZyB_8bOxVB6"
      },
      "source": [
        "from sklearn.preprocessing import StandardScaler\n",
        "scaler=StandardScaler()\n",
        "X_train=scaler.fit_transform(X_train)\n",
        "X_test=scaler.transform(X_test)"
      ],
      "execution_count": null,
      "outputs": []
    },
    {
      "cell_type": "code",
      "metadata": {
        "id": "g9vuXJrYxfpg"
      },
      "source": [
        "model=nn.Sequential(\n",
        "    nn.Linear(D,1),\n",
        "    nn.Sigmoid()\n",
        ")"
      ],
      "execution_count": null,
      "outputs": []
    },
    {
      "cell_type": "code",
      "metadata": {
        "id": "VVMv-urOyxTL"
      },
      "source": [
        "criterion=nn.BCELoss()\n",
        "optimizer=torch.optim.Adam(model.parameters())"
      ],
      "execution_count": null,
      "outputs": []
    },
    {
      "cell_type": "code",
      "metadata": {
        "id": "9KFiRucK0Fa6"
      },
      "source": [
        "X_train=torch.from_numpy(X_train.astype(np.float32))\n",
        "X_test=torch.from_numpy(X_test.astype(np.float32))\n",
        "y_train=torch.from_numpy(y_train.astype(np.float32).reshape(-1,1))\n",
        "y_test=torch.from_numpy(y_test.astype(np.float32).reshape(-1,1))"
      ],
      "execution_count": null,
      "outputs": []
    },
    {
      "cell_type": "code",
      "metadata": {
        "id": "pA07aTbS1MJP",
        "colab": {
          "base_uri": "https://localhost:8080/"
        },
        "outputId": "660143d1-b27e-4ed6-8878-c9899ed63814"
      },
      "source": [
        "n_epochs=1000\n",
        "train_losses=np.zeros(n_epochs)\n",
        "test_losses=np.zeros(n_epochs)\n",
        "\n",
        "for it in range(n_epochs):\n",
        "  optimizer.zero_grad()\n",
        "  outputs=model(X_train)\n",
        "  loss=criterion(outputs,y_train)\n",
        "  loss.backward()\n",
        "  optimizer.step()\n",
        "  outputs_test=model(X_test)\n",
        "  loss_test=criterion(outputs_test,y_test)\n",
        "\n",
        "  train_losses[it]=loss.item()\n",
        "  test_losses[it]=loss_test.item()\n",
        "\n",
        "  if (it+1) % 50 ==0:\n",
        "    print(f'Epoch {it+1}/{n_epochs} , Train loss: {loss.item():.4f} , Test loss: {loss_test.item():.4f} ')"
      ],
      "execution_count": null,
      "outputs": [
        {
          "output_type": "stream",
          "text": [
            "Epoch 50/1000 , Train loss: 0.5571 , Test loss: 0.5616 \n",
            "Epoch 100/1000 , Train loss: 0.4059 , Test loss: 0.4221 \n",
            "Epoch 150/1000 , Train loss: 0.3225 , Test loss: 0.3465 \n",
            "Epoch 200/1000 , Train loss: 0.2686 , Test loss: 0.2988 \n",
            "Epoch 250/1000 , Train loss: 0.2310 , Test loss: 0.2657 \n",
            "Epoch 300/1000 , Train loss: 0.2035 , Test loss: 0.2413 \n",
            "Epoch 350/1000 , Train loss: 0.1826 , Test loss: 0.2227 \n",
            "Epoch 400/1000 , Train loss: 0.1664 , Test loss: 0.2080 \n",
            "Epoch 450/1000 , Train loss: 0.1534 , Test loss: 0.1961 \n",
            "Epoch 500/1000 , Train loss: 0.1428 , Test loss: 0.1862 \n",
            "Epoch 550/1000 , Train loss: 0.1339 , Test loss: 0.1780 \n",
            "Epoch 600/1000 , Train loss: 0.1265 , Test loss: 0.1710 \n",
            "Epoch 650/1000 , Train loss: 0.1201 , Test loss: 0.1649 \n",
            "Epoch 700/1000 , Train loss: 0.1145 , Test loss: 0.1596 \n",
            "Epoch 750/1000 , Train loss: 0.1097 , Test loss: 0.1549 \n",
            "Epoch 800/1000 , Train loss: 0.1054 , Test loss: 0.1508 \n",
            "Epoch 850/1000 , Train loss: 0.1016 , Test loss: 0.1471 \n",
            "Epoch 900/1000 , Train loss: 0.0982 , Test loss: 0.1437 \n",
            "Epoch 950/1000 , Train loss: 0.0951 , Test loss: 0.1407 \n",
            "Epoch 1000/1000 , Train loss: 0.0923 , Test loss: 0.1379 \n"
          ],
          "name": "stdout"
        }
      ]
    },
    {
      "cell_type": "code",
      "metadata": {
        "colab": {
          "base_uri": "https://localhost:8080/",
          "height": 266
        },
        "id": "3N1DlT8Q6jB9",
        "outputId": "0d4a5d09-255f-4013-d4ca-0a7749b42938"
      },
      "source": [
        "plt.plot(train_losses,label=\"train loss\")\n",
        "plt.plot(test_losses,label=\"test loss\")\n",
        "plt.legend()\n",
        "plt.show()"
      ],
      "execution_count": null,
      "outputs": [
        {
          "output_type": "display_data",
          "data": {
            "image/png": "[encoded data removed]",
            "text/plain": [
              "<Figure size 432x288 with 1 Axes>"
            ]
          },
          "metadata": {
            "tags": [],
            "needs_background": "light"
          }
        }
      ]
    },
    {
      "cell_type": "code",
      "metadata": {
        "colab": {
          "base_uri": "https://localhost:8080/"
        },
        "id": "dRucbyOZ9YBy",
        "outputId": "19ac6537-1eeb-435d-e1dc-4b68cc22ea5d"
      },
      "source": [
        "with torch.no_grad():\n",
        "  p_train=model(X_train)\n",
        "  p_train=np.round(p_train.numpy())\n",
        "  train_acc=np.mean(y_train.numpy()==p_train)\n",
        "\n",
        "  p_test=model(X_test)\n",
        "  p_test=np.round(p_test.numpy())\n",
        "  test_acc=np.mean(y_test.numpy()==p_test)\n",
        "print(f'Training Acc: {train_acc:.4f}, Test Acc: {test_acc:.4f}')\n"
      ],
      "execution_count": null,
      "outputs": [
        {
          "output_type": "stream",
          "text": [
            "Training Acc: 0.9843, Test Acc: 0.9574\n"
          ],
          "name": "stdout"
        }
      ]
    },
    {
      "cell_type": "markdown",
      "metadata": {
        "id": "mC9XEW39BfNw"
      },
      "source": [
        "**Save and Load Model**"
      ]
    },
    {
      "cell_type": "code",
      "metadata": {
        "colab": {
          "base_uri": "https://localhost:8080/"
        },
        "id": "LYu0oEIGBmx1",
        "outputId": "4daa0f51-d776-4e26-e3fd-1715c5927830"
      },
      "source": [
        "model.state_dict()"
      ],
      "execution_count": null,
      "outputs": [
        {
          "output_type": "execute_result",
          "data": {
            "text/plain": [
              "OrderedDict([('0.weight',\n",
              "              tensor([[-0.4046, -0.2297, -0.2879, -0.4804, -0.1626, -0.2159, -0.3944, -0.2320,\n",
              "                       -0.2443,  0.3914, -0.4282, -0.1348, -0.2115, -0.3342,  0.0896, -0.1120,\n",
              "                        0.2691, -0.3760,  0.4099,  0.2733, -0.3567, -0.4494, -0.4038, -0.1919,\n",
              "                       -0.4328, -0.1421, -0.2274, -0.3125, -0.4002, -0.1879]])),\n",
              "             ('0.bias', tensor([0.4921]))])"
            ]
          },
          "metadata": {
            "tags": []
          },
          "execution_count": 53
        }
      ]
    },
    {
      "cell_type": "code",
      "metadata": {
        "id": "3R92bT3TBuXJ"
      },
      "source": [
        "torch.save(model.state_dict(),\"model1.pt\")"
      ],
      "execution_count": null,
      "outputs": []
    },
    {
      "cell_type": "code",
      "metadata": {
        "colab": {
          "base_uri": "https://localhost:8080/"
        },
        "id": "kn8w1NjzDAUR",
        "outputId": "2b02a73d-cd26-4f9e-f514-22ff6f0ba726"
      },
      "source": [
        "!ls\n"
      ],
      "execution_count": null,
      "outputs": [
        {
          "output_type": "stream",
          "text": [
            "model1.pt  sample_data\n"
          ],
          "name": "stdout"
        }
      ]
    },
    {
      "cell_type": "code",
      "metadata": {
        "id": "oDuVtfbzDbcB"
      },
      "source": [
        "model2=nn.Sequential(\n",
        "    nn.Linear(D,1),\n",
        "    nn.Sigmoid()\n",
        ")"
      ],
      "execution_count": null,
      "outputs": []
    },
    {
      "cell_type": "code",
      "metadata": {
        "colab": {
          "base_uri": "https://localhost:8080/"
        },
        "id": "OSsF4cucDrYy",
        "outputId": "2108c680-91c7-4a8f-9107-bd229006c015"
      },
      "source": [
        "model2.load_state_dict(torch.load(\"model1.pt\"))"
      ],
      "execution_count": null,
      "outputs": [
        {
          "output_type": "execute_result",
          "data": {
            "text/plain": [
              "<All keys matched successfully>"
            ]
          },
          "metadata": {
            "tags": []
          },
          "execution_count": 58
        }
      ]
    },
    {
      "cell_type": "code",
      "metadata": {
        "colab": {
          "base_uri": "https://localhost:8080/"
        },
        "id": "nQK0J2zHD2cQ",
        "outputId": "088ab127-11a3-4fc5-fbe6-8895b6d118a9"
      },
      "source": [
        "with torch.no_grad():\n",
        "  p_train=model2(X_train)\n",
        "  p_train=np.round(p_train.numpy())\n",
        "  train_acc=np.mean(y_train.numpy()==p_train)\n",
        "\n",
        "  p_test=model2(X_test)\n",
        "  p_test=np.round(p_test.numpy())\n",
        "  test_acc=np.mean(y_test.numpy()==p_test)\n",
        "print(f'Training Acc: {train_acc:.4f}, Test Acc: {test_acc:.4f}')"
      ],
      "execution_count": null,
      "outputs": [
        {
          "output_type": "stream",
          "text": [
            "Training Acc: 0.9843, Test Acc: 0.9574\n"
          ],
          "name": "stdout"
        }
      ]
    }
  ]
}