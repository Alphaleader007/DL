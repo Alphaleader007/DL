{
  "nbformat": 4,
  "nbformat_minor": 0,
  "metadata": {
    "colab": {
      "name": "Linear Regression.ipynb",
      "provenance": [],
      "collapsed_sections": [],
      "authorship_tag": "ABX9TyNONbNGnWnSiS20NxvkiWt6",
      "include_colab_link": true
    },
    "kernelspec": {
      "name": "python3",
      "display_name": "Python 3"
    },
    "language_info": {
      "name": "python"
    }
  },
  "cells": [
    {
      "cell_type": "markdown",
      "metadata": {
        "id": "view-in-github",
        "colab_type": "text"
      },
      "source": [
        "<a href=\"https://colab.research.google.com/github/Alphaleader007/DL/blob/main/Linear_Regression.ipynb\" target=\"_parent\"><img src=\"https://colab.research.google.com/assets/colab-badge.svg\" alt=\"Open In Colab\"/></a>"
      ]
    },
    {
      "cell_type": "code",
      "metadata": {
        "id": "p1t0mTTAz10E"
      },
      "source": [
        "import torch\n",
        "import torch.nn as nn\n",
        "import numpy as np\n",
        "import matplotlib.pyplot as plt\n"
      ],
      "execution_count": null,
      "outputs": []
    },
    {
      "cell_type": "code",
      "metadata": {
        "id": "M-cEuAkC0ion"
      },
      "source": [
        "N=20\n",
        "X=np.random.random(N)*10-5\n",
        "Y=0.5*X-1+np.random.randn(N)"
      ],
      "execution_count": null,
      "outputs": []
    },
    {
      "cell_type": "code",
      "metadata": {
        "colab": {
          "base_uri": "https://localhost:8080/",
          "height": 282
        },
        "id": "_hCHOVyk1xA4",
        "outputId": "40906607-237f-4fea-b001-0f565ce910e9"
      },
      "source": [
        "plt.scatter(X,Y)"
      ],
      "execution_count": null,
      "outputs": [
        {
          "output_type": "execute_result",
          "data": {
            "text/plain": [
              "<matplotlib.collections.PathCollection at 0x7f842cde13d0>"
            ]
          },
          "metadata": {
            "tags": []
          },
          "execution_count": 4
        },
        {
          "output_type": "display_data",
          "data": {
            "image/png": "[encoded data removed]",
            "text/plain": [
              "<Figure size 432x288 with 1 Axes>"
            ]
          },
          "metadata": {
            "tags": [],
            "needs_background": "light"
          }
        }
      ]
    },
    {
      "cell_type": "code",
      "metadata": {
        "id": "TdjQ5OJl14zR"
      },
      "source": [
        "model=nn.Linear(1,1)"
      ],
      "execution_count": null,
      "outputs": []
    },
    {
      "cell_type": "code",
      "metadata": {
        "id": "CL_7K-Ji2JEn"
      },
      "source": [
        "criterion=nn.MSELoss()\n",
        "optimizer=torch.optim.SGD(model.parameters(),lr=0.1)"
      ],
      "execution_count": null,
      "outputs": []
    },
    {
      "cell_type": "code",
      "metadata": {
        "id": "OJEL_JwG2m05"
      },
      "source": [
        "X=X.reshape(N,1)\n",
        "Y=Y.reshape(N,1)\n",
        "input=torch.from_numpy(X.astype(np.float32))\n",
        "targets=torch.from_numpy(Y.astype(np.float32))"
      ],
      "execution_count": null,
      "outputs": []
    },
    {
      "cell_type": "code",
      "metadata": {
        "colab": {
          "base_uri": "https://localhost:8080/"
        },
        "id": "YvVI-Aft3cWe",
        "outputId": "aec5f794-3568-4cc1-89c1-eff3bb48182a"
      },
      "source": [
        "type(input)"
      ],
      "execution_count": null,
      "outputs": [
        {
          "output_type": "execute_result",
          "data": {
            "text/plain": [
              "torch.Tensor"
            ]
          },
          "metadata": {
            "tags": []
          },
          "execution_count": 8
        }
      ]
    },
    {
      "cell_type": "code",
      "metadata": {
        "colab": {
          "base_uri": "https://localhost:8080/"
        },
        "id": "ZvoQumrJ3fB4",
        "outputId": "64b18b84-ef06-417a-b609-c1ae9b5415a9"
      },
      "source": [
        "n_epochs=30\n",
        "losses=[]\n",
        "for it in range(n_epochs):\n",
        "  optimizer.zero_grad()\n",
        "  outputs=model(input)\n",
        "  loss=criterion(outputs,targets)\n",
        "  losses.append(loss.item())\n",
        "  loss.backward()\n",
        "  optimizer.step()\n",
        "  print(f\"Epoch {it+1}/{n_epochs} , Loss: {loss.item():.4f}\")"
      ],
      "execution_count": null,
      "outputs": [
        {
          "output_type": "stream",
          "text": [
            "Epoch 1/30 , Loss: 1.0733\n",
            "Epoch 2/30 , Loss: 0.9293\n",
            "Epoch 3/30 , Loss: 0.8356\n",
            "Epoch 4/30 , Loss: 0.7745\n",
            "Epoch 5/30 , Loss: 0.7344\n",
            "Epoch 6/30 , Loss: 0.7080\n",
            "Epoch 7/30 , Loss: 0.6905\n",
            "Epoch 8/30 , Loss: 0.6788\n",
            "Epoch 9/30 , Loss: 0.6708\n",
            "Epoch 10/30 , Loss: 0.6652\n",
            "Epoch 11/30 , Loss: 0.6612\n",
            "Epoch 12/30 , Loss: 0.6582\n",
            "Epoch 13/30 , Loss: 0.6560\n",
            "Epoch 14/30 , Loss: 0.6541\n",
            "Epoch 15/30 , Loss: 0.6526\n",
            "Epoch 16/30 , Loss: 0.6513\n",
            "Epoch 17/30 , Loss: 0.6501\n",
            "Epoch 18/30 , Loss: 0.6491\n",
            "Epoch 19/30 , Loss: 0.6481\n",
            "Epoch 20/30 , Loss: 0.6472\n",
            "Epoch 21/30 , Loss: 0.6463\n",
            "Epoch 22/30 , Loss: 0.6454\n",
            "Epoch 23/30 , Loss: 0.6446\n",
            "Epoch 24/30 , Loss: 0.6438\n",
            "Epoch 25/30 , Loss: 0.6430\n",
            "Epoch 26/30 , Loss: 0.6423\n",
            "Epoch 27/30 , Loss: 0.6415\n",
            "Epoch 28/30 , Loss: 0.6408\n",
            "Epoch 29/30 , Loss: 0.6402\n",
            "Epoch 30/30 , Loss: 0.6395\n"
          ],
          "name": "stdout"
        }
      ]
    },
    {
      "cell_type": "code",
      "metadata": {
        "colab": {
          "base_uri": "https://localhost:8080/",
          "height": 279
        },
        "id": "mHc0zs996OwF",
        "outputId": "937b29a0-f032-4657-fe8c-5deb0606cc12"
      },
      "source": [
        "plt.plot(losses);\n",
        "plt.xlabel('Epochs')\n",
        "plt.ylabel('Loss');\n"
      ],
      "execution_count": null,
      "outputs": [
        {
          "output_type": "display_data",
          "data": {
            "image/png": "[encoded data removed]",
            "text/plain": [
              "<Figure size 432x288 with 1 Axes>"
            ]
          },
          "metadata": {
            "tags": [],
            "needs_background": "light"
          }
        }
      ]
    },
    {
      "cell_type": "code",
      "metadata": {
        "colab": {
          "base_uri": "https://localhost:8080/",
          "height": 265
        },
        "id": "QETUPBRI8T9g",
        "outputId": "bdf94927-72e0-49de-a104-28a821ff5617"
      },
      "source": [
        "predicted=model(input).detach().numpy()\n",
        "plt.scatter(X,Y,Label=\"Original Data\")\n",
        "plt.plot(X,predicted,Label=\"Fitted Line\")\n",
        "plt.legend()\n",
        "plt.show()"
      ],
      "execution_count": null,
      "outputs": [
        {
          "output_type": "display_data",
          "data": {
            "image/png": "[encoded data removed]",
            "text/plain": [
              "<Figure size 432x288 with 1 Axes>"
            ]
          },
          "metadata": {
            "tags": [],
            "needs_background": "light"
          }
        }
      ]
    },
    {
      "cell_type": "code",
      "metadata": {
        "colab": {
          "base_uri": "https://localhost:8080/"
        },
        "id": "vRa0lc7I9f_x",
        "outputId": "a35bc20c-9a40-4f08-d7ed-b7fe7e48892a"
      },
      "source": [
        "w=model.weight.data.numpy()\n",
        "b=model.bias.data.numpy()\n",
        "print(w,b)#the w and b should be closer to 0.5 and -1 resp. because m=0.5 and c=-1 when we generated the data"
      ],
      "execution_count": null,
      "outputs": [
        {
          "output_type": "stream",
          "text": [
            "[[0.6017297]] [-0.9437206]\n"
          ],
          "name": "stdout"
        }
      ]
    }
  ]
}